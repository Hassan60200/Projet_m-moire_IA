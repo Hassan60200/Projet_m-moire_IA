{
 "cells": [
  {
   "cell_type": "code",
   "execution_count": 1,
   "id": "570c95a9",
   "metadata": {},
   "outputs": [],
   "source": [
    "import scrapy\n",
    "from scrapy import Request\n",
    "from seloger.seloger.items import SelogerItem"
   ]
  },
  {
   "cell_type": "code",
   "execution_count": 18,
   "id": "1dd61ca9",
   "metadata": {},
   "outputs": [],
   "source": [
    "class SelogerSpider(scrapy.Spider):\n",
    "    name = 'seLoger'\n",
    "    allowed_domains = ['www.seloger.com']\n",
    "    start_urls = ['http://www.seloger.com/']\n",
    "\n",
    "    def parse(self, response):\n",
    "        prices = response.css('.Price__PriceContainer-sc-1g9fitq-0.knHjrC span::text').getall()\n",
    "        for price in prices:\n",
    "            print(price.strip())"
   ]
  }
 ],
 "metadata": {
  "kernelspec": {
   "display_name": "Python 3 (ipykernel)",
   "language": "python",
   "name": "python3"
  },
  "language_info": {
   "codemirror_mode": {
    "name": "ipython",
    "version": 3
   },
   "file_extension": ".py",
   "mimetype": "text/x-python",
   "name": "python",
   "nbconvert_exporter": "python",
   "pygments_lexer": "ipython3",
   "version": "3.10.6"
  }
 },
 "nbformat": 4,
 "nbformat_minor": 5
}
